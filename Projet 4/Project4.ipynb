{
 "cells": [
  {
   "cell_type": "code",
   "execution_count": 168,
   "metadata": {},
   "outputs": [],
   "source": [
    "import numpy as np\n",
    "import matplotlib.pyplot as plt\n",
    "import sympy as sp\n",
    "# from scipy import integrate\n",
    "from sympy import integrate\n",
    "from scipy.linalg import eig"
   ]
  },
  {
   "cell_type": "code",
   "execution_count": 169,
   "metadata": {},
   "outputs": [],
   "source": [
    "nat_freq = np.loadtxt('P2024_f_Part4.txt')\n",
    "modes = np.loadtxt('P2024_Modes_Part4.txt')\n",
    "\n",
    "x = sp.symbols('x')"
   ]
  },
  {
   "cell_type": "code",
   "execution_count": 170,
   "metadata": {},
   "outputs": [],
   "source": [
    "l = 0.8\n",
    "a = 0.2\n",
    "L = l+2*a\n",
    "\n",
    "e = 0.15\n",
    "t = 0.01\n",
    "d = 0.25\n",
    "rho = 7850\n",
    "A = e**2 - (e-2*t)**2\n",
    "E = 210e9\n",
    "I = (e**4 - (e-2*t)**4)/12\n",
    "\n",
    "M_mot = 75.2\n",
    "M_dv = 75\n",
    "J_B = 1\n",
    "J_D = 10\n",
    "k_1l = 1e4  # N/m\n",
    "k_1r = 1e9  # Nm/rad attention\n",
    "k_2l = 1e5\n",
    "k_2r = 1e4"
   ]
  },
  {
   "cell_type": "markdown",
   "metadata": {},
   "source": [
    "Fonction de Rayleigh-Ritz polynomiale (p) ou harmonique (h)\n"
   ]
  },
  {
   "cell_type": "code",
   "execution_count": 171,
   "metadata": {},
   "outputs": [],
   "source": [
    "def phi(x, n, form=\"p\"):\n",
    "    if form == \"p\":\n",
    "        f = (x/L)**n\n",
    "    if form == \"h\":\n",
    "        f = sp.sin(n*np.pi*x/L)\n",
    "    return f\n",
    "\n",
    "# phi en metres\n",
    "# d phi/ dx = theta en radians avec les petits angles"
   ]
  },
  {
   "cell_type": "markdown",
   "metadata": {},
   "source": [
    "Matrice de masses\n"
   ]
  },
  {
   "cell_type": "code",
   "execution_count": 172,
   "metadata": {},
   "outputs": [],
   "source": [
    "def Mass(N):\n",
    "\n",
    "    B = l/2\n",
    "    D = l + a\n",
    "    M = np.zeros((N, N))\n",
    "    for i in range(N):\n",
    "        for j in range(N):\n",
    "            M[i, j] = (integrate(rho * A * phi(x, i) * phi(x, j), (x, 0, L))\n",
    "                       + M_mot * phi(B, i) * phi(B, j)\n",
    "                       + M_mot * d**2 *\n",
    "                       sp.diff(phi(B, i), x) * sp.diff(phi(B, j), x)\n",
    "                       + J_B * sp.diff(phi(B, i), x) * sp.diff(phi(B, j), x)\n",
    "                       + M_dv * phi(D, i) * phi(D, j)\n",
    "                       + J_D * sp.diff(phi(D, i), x) * sp.diff(phi(D, j), x))\n",
    "\n",
    "    return M"
   ]
  },
  {
   "cell_type": "markdown",
   "metadata": {},
   "source": [
    "Matrices de raideurs"
   ]
  },
  {
   "cell_type": "code",
   "execution_count": 173,
   "metadata": {},
   "outputs": [],
   "source": [
    "def Stiff(N):\n",
    "\n",
    "    A_pos = 0\n",
    "    C = l\n",
    "    K = np.zeros((N, N))\n",
    "    for i in range(N):\n",
    "        for j in range(N):\n",
    "            K[i, j] = (integrate(E * I * sp.diff(phi(x, i), x, x) * sp.diff(phi(x, j), x, x), (x, 0, L))\n",
    "                       + k_1l * phi(A_pos, i) * phi(A_pos, j)\n",
    "                       + k_1r * sp.diff(phi(A, i), x) * sp.diff(phi(A, j), x)\n",
    "                       + k_2l * phi(C, i) * phi(C, j)\n",
    "                       + k_2r * sp.diff(phi(C, i), x) * sp.diff(phi(C, j), x))\n",
    "\n",
    "    return K"
   ]
  },
  {
   "cell_type": "code",
   "execution_count": 174,
   "metadata": {},
   "outputs": [
    {
     "name": "stdout",
     "output_type": "stream",
     "text": [
      "[3.81]\n",
      "[  3.81 755.07]\n",
      "[   3.81  749.47 2386.01]\n",
      "[3.81000e+00 6.24500e+02 2.38596e+03 6.10593e+03]\n",
      "[3.81000e+00 6.19510e+02 1.63210e+03 5.95945e+03]\n",
      "[   3.81  613.24 1632.09 3500.93]\n",
      "[   3.81  612.35 1566.97 3375.59]\n",
      "[   3.81  612.28 1564.45 3233.04]\n",
      "[   3.81  612.24 1562.05 3188.49]\n"
     ]
    },
    {
     "data": {
      "text/plain": [
       "[<matplotlib.lines.Line2D at 0x1a9a516f680>]"
      ]
     },
     "execution_count": 174,
     "metadata": {},
     "output_type": "execute_result"
    },
    {
     "data": {
      "image/png": "[encoded data removed]",
      "text/plain": [
       "<Figure size 640x480 with 1 Axes>"
      ]
     },
     "metadata": {},
     "output_type": "display_data"
    }
   ],
   "source": [
    "mode_interest = 1\n",
    "N_min = mode_interest+1\n",
    "N_max = 10\n",
    "for N_rr in range(N_min, N_max+1):\n",
    "    M = Mass(N_rr)\n",
    "    K = Stiff(N_rr)\n",
    "\n",
    "    # w[i] is the eigenvalue and U[:, i] is the corresponding eigenvector\n",
    "    w, U = eig(K, M)\n",
    "\n",
    "    omega = np.sort(np.abs(np.sqrt(w)))/2/np.pi\n",
    "\n",
    "    sorted_indices = np.argsort(np.abs(np.sqrt(w)))\n",
    "    modes = U[:, sorted_indices]\n",
    "\n",
    "    print(omega[1:5].round(2))\n",
    "\n",
    "    plt.plot(N_rr, omega[mode_interest], 'ro')\n",
    "\n",
    "nat_freq_plot = np.linspace(\n",
    "    nat_freq[mode_interest-1], nat_freq[mode_interest-1], N_max-N_min+1)\n",
    "plt.plot(range(N_min, N_max+1), nat_freq_plot, 'b')"
   ]
  },
  {
   "cell_type": "code",
   "execution_count": 175,
   "metadata": {},
   "outputs": [],
   "source": [
    "def modeshape(m, N, U, L, npoints):\n",
    "    X = np.linspace(0, L, npoints, endpoint=True)\n",
    "    W = np.zeros(npoints)\n",
    "    for i in range(0, N):\n",
    "        for j in range(0, npoints):\n",
    "            W[j] = W[j] + U[i, m]*phi(X[j], i)\n",
    "    return W"
   ]
  },
  {
   "cell_type": "code",
   "execution_count": 180,
   "metadata": {},
   "outputs": [],
   "source": [
    "# parametres pour le plot\n",
    "\n",
    "nb_points = 10\n",
    "x_plot = np.linspace(0, L, nb_points)\n",
    "mode_interest = 1\n",
    "N_ritz = 15  # il faut que N_ritz > nb_points"
   ]
  },
  {
   "cell_type": "code",
   "execution_count": 181,
   "metadata": {},
   "outputs": [
    {
     "name": "stdout",
     "output_type": "stream",
     "text": [
      "(15, 15)\n"
     ]
    },
    {
     "data": {
      "text/plain": [
       "[<matplotlib.lines.Line2D at 0x1a9a69b1190>]"
      ]
     },
     "execution_count": 181,
     "metadata": {},
     "output_type": "execute_result"
    },
    {
     "data": {
      "image/png": "[encoded data removed]",
      "text/plain": [
       "<Figure size 640x480 with 1 Axes>"
      ]
     },
     "metadata": {},
     "output_type": "display_data"
    }
   ],
   "source": [
    "M = Mass(N_ritz)\n",
    "K = Stiff(N_ritz)\n",
    "w, U = eig(K, M)\n",
    "sorted_indices = np.argsort(np.abs(np.sqrt(w)))\n",
    "modes = U[:, sorted_indices]\n",
    "print(np.shape(modes))\n",
    "\n",
    "U_ritz = modeshape(mode_interest, N_rr, modes, L, nb_points)\n",
    "\n",
    "plt.plot(x_plot, U_ritz, 'g')"
   ]
  }
 ],
 "metadata": {
  "kernelspec": {
   "display_name": "Python (jupyterV1)",
   "language": "python",
   "name": "jupyterpythonv1"
  },
  "language_info": {
   "codemirror_mode": {
    "name": "ipython",
    "version": 3
   },
   "file_extension": ".py",
   "mimetype": "text/x-python",
   "name": "python",
   "nbconvert_exporter": "python",
   "pygments_lexer": "ipython3",
   "version": "3.12.3"
  }
 },
 "nbformat": 4,
 "nbformat_minor": 2
}
